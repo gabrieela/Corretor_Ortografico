{
 "cells": [
  {
   "cell_type": "markdown",
   "metadata": {
    "colab_type": "text",
    "id": "u_XMUusvUi7y"
   },
   "source": [
    "# Corretor Ortográfico com Python\n"
   ]
  },
  {
   "cell_type": "markdown",
   "metadata": {
    "colab_type": "text",
    "id": "GsdZs1yQUyOf"
   },
   "source": [
    "## Carregando a base de dados"
   ]
  },
  {
   "cell_type": "code",
   "execution_count": 3,
   "metadata": {
    "colab": {},
    "colab_type": "code",
    "id": "v5vPRrqyzeUv"
   },
   "outputs": [],
   "source": [
    "with open(\"./data/dataset.txt\", \"r\") as f:\n",
    "  dataset = f.read()"
   ]
  },
  {
   "cell_type": "markdown",
   "metadata": {
    "colab_type": "text",
    "id": "Kd9XNISkU4YS"
   },
   "source": [
    "## Conhecendo e entendendo a base de dados"
   ]
  },
  {
   "cell_type": "code",
   "execution_count": 4,
   "metadata": {
    "colab": {
     "base_uri": "https://localhost:8080/",
     "height": 176
    },
    "colab_type": "code",
    "id": "9iGco4_CA_-E",
    "outputId": "01e4a591-ff1c-4e08-f118-363550f0abad"
   },
   "outputs": [
    {
     "name": "stdout",
     "output_type": "stream",
     "text": [
      "[[220]]\n",
      "A Astronomia é uma ciência natural que estuda corpos celestes ( como estrela s , planeta s , cometa s , nebulosas , aglomerados de estrelas , galáxia s ) e fenômenos que se originam fora da atmosfera da Terra ( como a radiação cósmica de fundo em micro - ondas ).\n",
      "Ela está preocupada com a evolução , a física , a química , e o movimento de objetos celestes , bem como a formação e o desenvolvimento do universo .\n",
      "A astronomia é uma das mais antigas ciências .\n",
      "Culturas pré - históricas deixaram registrados vários artefatos astronômicos , como Stonehenge , os montes de Newgrange , os menir es .\n",
      "As primeiras civilizações , como os babilônios , gregos , chineses , indianos , iranianos e maias realizaram observações metódicas do céu noturno .\n",
      "No entanto , a invenção do telescópio permitiu o desenvolvimento da astronomia moderna .\n",
      "Historicamente , a astronomia incluiu disciplinas tão diversas como astrometria , navegação astronômica , astronomia observacional e a elaboração de calendári\n"
     ]
    }
   ],
   "source": [
    "# Exibindo parte do conteúdo do dataset\n",
    "print(dataset[:1000])"
   ]
  },
  {
   "cell_type": "code",
   "execution_count": 5,
   "metadata": {
    "colab": {
     "base_uri": "https://localhost:8080/",
     "height": 34
    },
    "colab_type": "code",
    "id": "UELuBdkJ0XEO",
    "outputId": "25f1e731-73cf-49aa-e472-d0388fa11c71"
   },
   "outputs": [
    {
     "data": {
      "text/plain": [
       "10188634"
      ]
     },
     "execution_count": 5,
     "metadata": {},
     "output_type": "execute_result"
    }
   ],
   "source": [
    "# Verificando o tamanho da base dados\n",
    "# Observação 1: Verificação referente a quantidade de caracteres e não de palavras\n",
    "len(dataset)"
   ]
  },
  {
   "cell_type": "code",
   "execution_count": 6,
   "metadata": {
    "colab": {
     "base_uri": "https://localhost:8080/",
     "height": 86
    },
    "colab_type": "code",
    "id": "sQK9RdKEY6BV",
    "outputId": "f82a6dde-b09a-4578-da31-5cb8831cf52f"
   },
   "outputs": [
    {
     "name": "stdout",
     "output_type": "stream",
     "text": [
      "A palavra 'idéia' aparece 75 vezes em nosso dataset\n",
      "A palavra 'ideia' aparece 522 vezes em nosso dataset\n",
      "A palavra 'logica' aparece 96 vezes em nosso dataset\n",
      "A palavra 'lógica' aparece 798 vezes em nosso dataset\n"
     ]
    }
   ],
   "source": [
    "# Nosso dataset tem palavras corretas e incorretas.\n",
    "# Portanto, quando a função de correção for implementada, \n",
    "# a frequência de ocorrência das palavras será importante, pois\n",
    "# quanto maior a frequência, maior será a probabilidade de acerto\n",
    "# Como observamos a seguir, as palavras corretas tem maior frequência que as incorretas\n",
    "print(f\"A palavra 'idéia' aparece {dataset.count('idéia')} vezes em nosso dataset\") # palavra incorreta\n",
    "print(f\"A palavra 'ideia' aparece {dataset.count('ideia')} vezes em nosso dataset\") # palavra correta\n",
    "print(f\"A palavra 'logica' aparece {dataset.count('logica')} vezes em nosso dataset\") # palavra incorreta\n",
    "print(f\"A palavra 'lógica' aparece {dataset.count('lógica')} vezes em nosso dataset\") # palavra correta"
   ]
  },
  {
   "cell_type": "code",
   "execution_count": 7,
   "metadata": {
    "colab": {
     "base_uri": "https://localhost:8080/",
     "height": 86
    },
    "colab_type": "code",
    "id": "QVIeYKlHYPUK",
    "outputId": "06582764-ce21-42ab-a962-fd3ca30ea209"
   },
   "outputs": [
    {
     "name": "stdout",
     "output_type": "stream",
     "text": [
      "O caracter '!' aparece 129 vezes em nosso dataset\n",
      "O caracter '#' aparece 32 vezes em nosso dataset\n",
      "O caracter '-' aparece 19405 vezes em nosso dataset\n",
      "O caracter ' '(espaço em branco) aparece 1775366 vezes em nosso dataset\n"
     ]
    }
   ],
   "source": [
    "# A base de dados contem caracteres não alfabéticos. \n",
    "# A base de dados será posteriormente tratada para não incluir estes caracteres.\n",
    "print(f\"O caracter '!' aparece {dataset.count('!')} vezes em nosso dataset\")\n",
    "print(f\"O caracter '#' aparece {dataset.count('#')} vezes em nosso dataset\")\n",
    "print(f\"O caracter '-' aparece {dataset.count('-')} vezes em nosso dataset\")\n",
    "print(f\"O caracter ' '(espaço em branco) aparece {dataset.count(' ')} vezes em nosso dataset\")"
   ]
  },
  {
   "cell_type": "code",
   "execution_count": 8,
   "metadata": {
    "colab": {
     "base_uri": "https://localhost:8080/",
     "height": 52
    },
    "colab_type": "code",
    "id": "ee46lkxhcxn5",
    "outputId": "22291b9e-f223-48f6-911e-74dc92575890"
   },
   "outputs": [
    {
     "name": "stdout",
     "output_type": "stream",
     "text": [
      "O caracter 'Começar' aparece 2 vezes em nosso dataset\n",
      "O caracter 'começar' aparece 253 vezes em nosso dataset\n"
     ]
    }
   ],
   "source": [
    "# A base de dados diferencia Capitalização. \n",
    "# A base de dados será posteriormente tratada para trabalhar apenas com palavras minúsculas.\n",
    "print(f\"O caracter 'Começar' aparece {dataset.count('Começar')} vezes em nosso dataset\")\n",
    "print(f\"O caracter 'começar' aparece {dataset.count('começar')} vezes em nosso dataset\")"
   ]
  },
  {
   "cell_type": "markdown",
   "metadata": {
    "colab_type": "text",
    "id": "dzs1JQJeVjI9"
   },
   "source": [
    "## Realizando a Tokenização e separação em palavras da base de dados\n"
   ]
  },
  {
   "cell_type": "markdown",
   "metadata": {
    "colab_type": "text",
    "id": "XkGtHQfnkIwe"
   },
   "source": [
    "> Mais informações: https://www.nltk.org/ "
   ]
  },
  {
   "cell_type": "code",
   "execution_count": 9,
   "metadata": {
    "colab": {},
    "colab_type": "code",
    "id": "ehmCfJdF4hnn"
   },
   "outputs": [
    {
     "name": "stderr",
     "output_type": "stream",
     "text": [
      "[nltk_data] Downloading package punkt to /home/gabi/nltk_data...\n",
      "[nltk_data]   Package punkt is already up-to-date!\n"
     ]
    },
    {
     "data": {
      "text/plain": [
       "True"
      ]
     },
     "execution_count": 9,
     "metadata": {},
     "output_type": "execute_result"
    }
   ],
   "source": [
    "import nltk\n",
    "nltk.download('punkt')"
   ]
  },
  {
   "cell_type": "code",
   "execution_count": 10,
   "metadata": {
    "colab": {},
    "colab_type": "code",
    "id": "F4IySIpq5xsy"
   },
   "outputs": [],
   "source": [
    "# Cada vez que encontrar um caracter não alfabético, temos a quebra do texto \n",
    "# e o conteúdo anterior a esse caracter é adicionado a um item da lista, \n",
    "# o caracter não alfabético é ignorado, e a próxima sequencia é analisada, \n",
    "# repetindo o processo até o fim do conteúdo do dataset.\n",
    "\n",
    "def separa_palavras(lista_tokens):\n",
    "  lista_palavras = []\n",
    "  for token in lista_tokens:\n",
    "    if token.isalpha():\n",
    "      lista_palavras.append(token)\n",
    "  return lista_palavras"
   ]
  },
  {
   "cell_type": "code",
   "execution_count": 11,
   "metadata": {
    "colab": {
     "base_uri": "https://localhost:8080/",
     "height": 34
    },
    "colab_type": "code",
    "id": "jH-9Aabv7OQP",
    "outputId": "770155cb-e1f2-4c07-8bba-952519690c4d"
   },
   "outputs": [
    {
     "name": "stdout",
     "output_type": "stream",
     "text": [
      "['[', '[', '220', ']', ']', 'A', 'Astronomia', 'é', 'uma', 'ciência']\n"
     ]
    }
   ],
   "source": [
    "# Tokenizando o dataset\n",
    "lista_tokens = nltk.tokenize.word_tokenize(dataset)\n",
    " \n",
    "print(lista_tokens[:10])"
   ]
  },
  {
   "cell_type": "code",
   "execution_count": 12,
   "metadata": {
    "colab": {
     "base_uri": "https://localhost:8080/",
     "height": 191
    },
    "colab_type": "code",
    "id": "2jdH4J3YjF6l",
    "outputId": "591c461a-36fa-4a2a-8516-3e44be71b63b"
   },
   "outputs": [
    {
     "data": {
      "text/plain": [
       "['A',\n",
       " 'Astronomia',\n",
       " 'é',\n",
       " 'uma',\n",
       " 'ciência',\n",
       " 'natural',\n",
       " 'que',\n",
       " 'estuda',\n",
       " 'corpos',\n",
       " 'celestes']"
      ]
     },
     "execution_count": 12,
     "metadata": {},
     "output_type": "execute_result"
    }
   ],
   "source": [
    "# Aplicando a função de separação de palavras a lista de tokens,\n",
    "# desta forma apenas os itens da lista que são compostos por caracteres alfabéticos serão armazenados\n",
    "lista_palavras = separa_palavras(lista_tokens)\n",
    "\n",
    "lista_palavras[:10]"
   ]
  },
  {
   "cell_type": "code",
   "execution_count": 13,
   "metadata": {
    "colab": {
     "base_uri": "https://localhost:8080/",
     "height": 52
    },
    "colab_type": "code",
    "id": "QC3WsU5zjXxR",
    "outputId": "e071709a-336d-4de6-9e23-86ac6448899b"
   },
   "outputs": [
    {
     "name": "stdout",
     "output_type": "stream",
     "text": [
      "O número de tokens é 1857955\n",
      "O número de palavras é 1554570\n"
     ]
    }
   ],
   "source": [
    "print(f\"O número de tokens é {len(lista_tokens)}\")\n",
    "print(f\"O número de palavras é {len(lista_palavras)}\")"
   ]
  },
  {
   "cell_type": "markdown",
   "metadata": {
    "colab_type": "text",
    "id": "ySTOUpzlWhys"
   },
   "source": [
    "## Normalizando a base de dados"
   ]
  },
  {
   "cell_type": "code",
   "execution_count": 14,
   "metadata": {
    "colab": {},
    "colab_type": "code",
    "id": "iq0XqNjk8V5D"
   },
   "outputs": [],
   "source": [
    "def normalizacao(lista_palavras):\n",
    "  lista_normalizada = []\n",
    "  for palavra in lista_palavras:\n",
    "    lista_normalizada.append(palavra.lower())\n",
    "  return lista_normalizada"
   ]
  },
  {
   "cell_type": "code",
   "execution_count": 15,
   "metadata": {
    "colab": {},
    "colab_type": "code",
    "id": "WvF96GTU8xeE"
   },
   "outputs": [],
   "source": [
    "# Aplicando a normalização ao nosso dataset\n",
    "\n",
    "lista_normalizada = normalizacao(lista_palavras)"
   ]
  },
  {
   "cell_type": "code",
   "execution_count": 16,
   "metadata": {
    "colab": {
     "base_uri": "https://localhost:8080/",
     "height": 52
    },
    "colab_type": "code",
    "id": "RTcCv0sJ86F5",
    "outputId": "4e8d5bc3-eec1-43c4-890a-00947088c1ad"
   },
   "outputs": [
    {
     "name": "stdout",
     "output_type": "stream",
     "text": [
      "['A', 'Astronomia', 'é']\n",
      "['a', 'astronomia', 'é']\n"
     ]
    }
   ],
   "source": [
    "# Verificando a lista sem normalização\n",
    "print(lista_palavras[:3])\n",
    "\n",
    "# Verificando a lista normalizada\n",
    "print(lista_normalizada[:3])"
   ]
  },
  {
   "cell_type": "code",
   "execution_count": 17,
   "metadata": {
    "colab": {
     "base_uri": "https://localhost:8080/",
     "height": 34
    },
    "colab_type": "code",
    "id": "xcHin9--9caS",
    "outputId": "a0e9b4c7-4815-4b2f-9118-94cc39c1593d"
   },
   "outputs": [
    {
     "data": {
      "text/plain": [
       "72129"
      ]
     },
     "execution_count": 17,
     "metadata": {},
     "output_type": "execute_result"
    }
   ],
   "source": [
    "# Quantidade de palavras, após o tratamento do dataset\n",
    "len(set(lista_normalizada))"
   ]
  },
  {
   "cell_type": "markdown",
   "metadata": {
    "colab_type": "text",
    "id": "-xFPB_ntk-yS"
   },
   "source": [
    "## Primeira versão do Corretor"
   ]
  },
  {
   "cell_type": "markdown",
   "metadata": {
    "colab_type": "text",
    "id": "jO4vUqxuoaGm"
   },
   "source": [
    "### Tratando o erro: Palavra com uma letra faltando"
   ]
  },
  {
   "cell_type": "code",
   "execution_count": 18,
   "metadata": {
    "colab": {},
    "colab_type": "code",
    "id": "R91eVUuuA8of"
   },
   "outputs": [],
   "source": [
    "# Definindo uma palavra incorreta para ser corrigida\n",
    "# Resultado esperado: 'arremesso'\n",
    "palavra_exemplo = \"aremesso\""
   ]
  },
  {
   "cell_type": "code",
   "execution_count": 19,
   "metadata": {
    "colab": {},
    "colab_type": "code",
    "id": "91omJicaliU_"
   },
   "outputs": [],
   "source": [
    "# Implementando a primeira função de correção\n",
    "# Erro: Palavra digitada com uma letra faltando, como a palavra 'aremesso' definida anteriormente\n",
    "# Solução: Adicionar a letra \n",
    "\n",
    "def insere_letras(fatias):\n",
    "  novas_palavras = []\n",
    "  letras = 'abcdefghijklmnopqrstuvwxyzáâàãéêèẽíîìĩóôòõúûùũç'\n",
    "  for E, D in fatias:\n",
    "    for letra in letras:\n",
    "      novas_palavras.append(E + letra + D) \n",
    "  return novas_palavras"
   ]
  },
  {
   "cell_type": "code",
   "execution_count": 20,
   "metadata": {
    "colab": {},
    "colab_type": "code",
    "id": "4QrU450Rl_iN"
   },
   "outputs": [],
   "source": [
    "# Gerando uma lista de palavras com adição de uma letra em diferentes posições de uma palavra\n",
    "# As palavras vão ser dividas em lado esquerdo (E) e lado direito (D) repetidas vezes dentro do laço de repetição\n",
    "def gerador_palavras(palavra):\n",
    "  fatias = []\n",
    "  for i in range(len(palavra)+1):\n",
    "    fatias.append((palavra[:i], palavra[i:]))\n",
    "  palavras_geradas = insere_letras(fatias)\n",
    "  return palavras_geradas"
   ]
  },
  {
   "cell_type": "code",
   "execution_count": 38,
   "metadata": {
    "colab": {
     "base_uri": "https://localhost:8080/",
     "height": 72
    },
    "colab_type": "code",
    "id": "8bpNFk6pCVa0",
    "outputId": "d7b651a1-f277-47b9-d7c6-6be500f14e67"
   },
   "outputs": [
    {
     "name": "stdout",
     "output_type": "stream",
     "text": [
      "Palavra correta: arrrenesso\n"
     ]
    }
   ],
   "source": [
    "# Visualizando a lista de palavras geradas a partir da palavra informada\n",
    "# A palavra correta ('arremesso') está, por inspeção, na posição 64 da lista\n",
    "palavras_geradas = gerador_palavras(palavra_exemplo)\n",
    "\n",
    "# Retirar o comentário da linha abaixo, caso queira visualizar as palavras geradas\n",
    "# print(f\"Lista de palavras geradas a partir da palavra informada: {palavras_geradas}\")\n"
   ]
  },
  {
   "cell_type": "markdown",
   "metadata": {
    "colab_type": "text",
    "id": "q6h0FlqTom1O"
   },
   "source": [
    "### Calculando a frequência e a probabilidade"
   ]
  },
  {
   "cell_type": "code",
   "execution_count": 39,
   "metadata": {
    "colab": {
     "base_uri": "https://localhost:8080/",
     "height": 191
    },
    "colab_type": "code",
    "id": "YKowY0BEmGEe",
    "outputId": "830960c3-6b73-4408-f7ee-a5610c613ae0"
   },
   "outputs": [
    {
     "data": {
      "text/plain": [
       "[('de', 83879),\n",
       " ('a', 58538),\n",
       " ('e', 49079),\n",
       " ('o', 45027),\n",
       " ('do', 29929),\n",
       " ('da', 27201),\n",
       " ('em', 26864),\n",
       " ('que', 26634),\n",
       " ('os', 15461),\n",
       " ('um', 15002)]"
      ]
     },
     "execution_count": 39,
     "metadata": {},
     "output_type": "execute_result"
    }
   ],
   "source": [
    "# Extraindo o tamanho da lista normalizada e armazenando o valor\n",
    "total_palavras = len(lista_normalizada)\n",
    "\n",
    "#Calculando a frequência de ocorrências dos itens (palavras) da lista\n",
    "frequencia = nltk.FreqDist(lista_normalizada)\n",
    "\n",
    "# Exibindo os itens mais frequentes da lista\n",
    "frequencia.most_common(10)"
   ]
  },
  {
   "cell_type": "code",
   "execution_count": 23,
   "metadata": {
    "colab": {},
    "colab_type": "code",
    "id": "YBMxnnXDHkTc"
   },
   "outputs": [],
   "source": [
    "# Dada a divisão da frequência de ocorrência da palavra informada pelo total de palavras da lista,\n",
    "# assumimos que quanto maior a ocorrência, maior a chance de ser a palavra correta\n",
    "def probabilidade(palavra_gerada):\n",
    "  return frequencia[palavra_gerada]/total_palavras"
   ]
  },
  {
   "cell_type": "markdown",
   "metadata": {
    "colab_type": "text",
    "id": "hDYo9zMzowJh"
   },
   "source": [
    "### Criando a primeira versão do corretor"
   ]
  },
  {
   "cell_type": "code",
   "execution_count": 24,
   "metadata": {
    "colab": {},
    "colab_type": "code",
    "id": "d-5I_7LsFBv6"
   },
   "outputs": [],
   "source": [
    "# A primeira versão do corretor irá corrigir apenas o erro de palavras com uma letra faltando, \n",
    "# considerando que este o algoritmo de inserção de letras é o único implementado em nosso gerador de palavras\n",
    "\n",
    "def corretor(palavra): \n",
    "  palavras_geradas = gerador_palavras(palavra)\n",
    "  palavra_correta = max(palavras_geradas, key = probabilidade)\n",
    "  return palavra_correta"
   ]
  },
  {
   "cell_type": "code",
   "execution_count": 25,
   "metadata": {
    "colab": {
     "base_uri": "https://localhost:8080/",
     "height": 35
    },
    "colab_type": "code",
    "id": "3MAFbgWKIEaI",
    "outputId": "9f418e2b-014f-471f-ad13-8c59a58dc421"
   },
   "outputs": [
    {
     "data": {
      "text/plain": [
       "'arremesso'"
      ]
     },
     "execution_count": 25,
     "metadata": {},
     "output_type": "execute_result"
    }
   ],
   "source": [
    "# Testando o corretor com a palavra de exemplo\n",
    "corretor(palavra_exemplo)"
   ]
  },
  {
   "cell_type": "code",
   "execution_count": 26,
   "metadata": {
    "colab": {
     "base_uri": "https://localhost:8080/",
     "height": 86
    },
    "colab_type": "code",
    "id": "hnoeed1Io-1F",
    "outputId": "ac1845df-ee63-4eaf-d3cc-a9649ca69abe"
   },
   "outputs": [
    {
     "name": "stdout",
     "output_type": "stream",
     "text": [
      "A palavra correta é: professor\n",
      "A palavra correta é: caminho\n",
      "A palavra correta é: escada\n",
      "A palavra correta é: comida\n"
     ]
    }
   ],
   "source": [
    "# Mais testes com o corretor, relativos a palavras com letra faltando\n",
    "print(f\"A palavra correta é: {corretor('proessor')}\")\n",
    "print(f\"A palavra correta é: {corretor('camiho')}\")\n",
    "print(f\"A palavra correta é: {corretor('ecada')}\")\n",
    "print(f\"A palavra correta é: {corretor('cmida')}\")"
   ]
  },
  {
   "cell_type": "markdown",
   "metadata": {
    "colab_type": "text",
    "id": "WpP42EFppdNK"
   },
   "source": [
    "### Avaliando a primeira versão do corretor"
   ]
  },
  {
   "cell_type": "markdown",
   "metadata": {
    "colab_type": "text",
    "id": "UEVxEePDvQp1"
   },
   "source": [
    "\n",
    "* A primeira versão do corretor, realiza a correção de um único tipo de erro: o de palavras com letra faltando, logo ela não é eficiente em muitos casos. \n",
    "* Todos os resultados abaixo mostram erros do corretor, pois os casos não são de palavras com letra faltando, e como este é o unico algoritmo implementado, o corretor não se comporta de forma eficiente, como verificamos a seguir:\n",
    "\n"
   ]
  },
  {
   "cell_type": "code",
   "execution_count": 27,
   "metadata": {
    "colab": {
     "base_uri": "https://localhost:8080/",
     "height": 69
    },
    "colab_type": "code",
    "id": "DLrCtsVmv0Zp",
    "outputId": "a467424a-d743-4fad-8b26-950f1bb3e684"
   },
   "outputs": [
    {
     "name": "stdout",
     "output_type": "stream",
     "text": [
      "A palavra correta é: aprofessoor\n",
      "A palavra correta é: acamihno\n",
      "A palavra correta é: acpmida\n"
     ]
    }
   ],
   "source": [
    "# Resultado incorreto para palavras com letras duplicadas\n",
    "print(f\"A palavra correta é: {corretor('professoor')}\") # resultado esperado: 'professor' \n",
    "# Resultado incorreto para palavras com letras invertidas\n",
    "print(f\"A palavra correta é: {corretor('camihno')}\") # resultado esperado: 'caminho' \n",
    "# Resultado incorreto para palavras com letras trocadas\n",
    "print(f\"A palavra correta é: {corretor('cpmida')}\") # resultado esperado: 'comida'\n"
   ]
  },
  {
   "cell_type": "code",
   "execution_count": 28,
   "metadata": {
    "colab": {
     "base_uri": "https://localhost:8080/",
     "height": 1000
    },
    "colab_type": "code",
    "id": "spdcQXVBJtc5",
    "outputId": "861dc740-cd0e-4ef5-d0e0-b529683179f8"
   },
   "outputs": [
    {
     "data": {
      "text/plain": [
       "[('podemos', 'pyodemos'),\n",
       " ('esse', 'esje'),\n",
       " ('já', 'jrá'),\n",
       " ('nosso', 'nossov'),\n",
       " ('são', 'sãêo'),\n",
       " ('dos', 'dosa'),\n",
       " ('muito', 'muifo'),\n",
       " ('imagem', 'iômagem'),\n",
       " ('sua', 'ósua'),\n",
       " ('também', 'tambéùm'),\n",
       " ('ele', 'eme'),\n",
       " ('fazer', 'èazer'),\n",
       " ('temos', 'temfs'),\n",
       " ('essa', 'eàssa'),\n",
       " ('quando', 'quaôdo'),\n",
       " ('vamos', 'vamvos'),\n",
       " ('sobre', 'hsobre'),\n",
       " ('java', 'sjava'),\n",
       " ('das', 'daõs'),\n",
       " ('agora', 'agorah'),\n",
       " ('está', 'eòtá'),\n",
       " ('cada', 'céda'),\n",
       " ('mesmo', 'zmesmo'),\n",
       " ('nos', 'noâ'),\n",
       " ('forma', 'fobma'),\n",
       " ('seja', 'sejéa'),\n",
       " ('então', 'enêão'),\n",
       " ('criar', 'èriar'),\n",
       " ('código', 'cóeigo'),\n",
       " ('caso', 'casío'),\n",
       " ('exemplo', 'áexemplo'),\n",
       " ('tem', 'tĩem'),\n",
       " ('usuário', 'usuárôio'),\n",
       " ('dados', 'dfados'),\n",
       " ('python', 'pgthon'),\n",
       " ('nossa', 'nossah'),\n",
       " ('além', 'alémè'),\n",
       " ('assim', 'asõim'),\n",
       " ('ter', 'teb'),\n",
       " ('até', 'atĩ'),\n",
       " ('bem', 'âem'),\n",
       " ('design', 'desigen'),\n",
       " ('trabalho', 'trabalàho'),\n",
       " ('foi', 'foo'),\n",
       " ('apenas', 'apenaũ'),\n",
       " ('empresa', 'empresà'),\n",
       " ('valor', 'valíor'),\n",
       " ('será', 'serr'),\n",
       " ('entre', 'entke'),\n",
       " ('método', 'méqodo'),\n",
       " ('precisamos', 'precisamops'),\n",
       " ('ainda', 'ainàa'),\n",
       " ('vai', 'van'),\n",
       " ('conteúdo', 'ûconteúdo'),\n",
       " ('seus', 'çeus'),\n",
       " ('eu', 'eû'),\n",
       " ('todos', 'todtos'),\n",
       " ('tempo', 'temeo'),\n",
       " ('sempre', 'semre'),\n",
       " ('qual', 'quakl'),\n",
       " ('ela', 'elaá'),\n",
       " ('só', 'síó'),\n",
       " ('utilizar', 'utiqizar'),\n",
       " ('projeto', 'prhojeto'),\n",
       " ('site', 'siàe'),\n",
       " ('sem', 'seém'),\n",
       " ('pelo', 'peln'),\n",
       " ('alura', 'aléra'),\n",
       " ('dia', 'tdia'),\n",
       " ('tudo', 'tuúo'),\n",
       " ('podemos', 'kpodemos'),\n",
       " ('esse', 'eẽsse'),\n",
       " ('já', 'jé'),\n",
       " ('nosso', 'nçosso'),\n",
       " ('são', 'sãô'),\n",
       " ('dos', 'odos'),\n",
       " ('muito', 'tuito'),\n",
       " ('imagem', 'imõgem'),\n",
       " ('sua', 'siua'),\n",
       " ('também', 'tamvbém'),\n",
       " ('ele', 'elpe'),\n",
       " ('fazer', 'façzer'),\n",
       " ('temos', 'teos'),\n",
       " ('essa', 'eũsa'),\n",
       " ('quando', 'quaìdo'),\n",
       " ('vamos', 'vjmos'),\n",
       " ('sobre', 'sxobre'),\n",
       " ('java', 'jkva'),\n",
       " ('das', 'dms'),\n",
       " ('agora', 'agtora'),\n",
       " ('está', 'esútá'),\n",
       " ('cada', 'cava'),\n",
       " ('mesmo', 'medmo'),\n",
       " ('nos', 'ános'),\n",
       " ('forma', 'forûa'),\n",
       " ('seja', 'smeja'),\n",
       " ('então', 'enjtão'),\n",
       " ('criar', 'criôar'),\n",
       " ('código', 'cóàigo'),\n",
       " ('caso', 'èaso'),\n",
       " ('exemplo', 'exbemplo'),\n",
       " ('tem', 'túem'),\n",
       " ('usuário', 'usuárin'),\n",
       " ('dados', 'daáos'),\n",
       " ('python', 'pythoçn'),\n",
       " ('nossa', 'nossk'),\n",
       " ('além', 'âlém'),\n",
       " ('assim', 'aóssim'),\n",
       " ('ter', 'tãer'),\n",
       " ('até', 'vté'),\n",
       " ('bem', 'búm'),\n",
       " ('design', 'íesign'),\n",
       " ('trabalho', 'trabèalho'),\n",
       " ('foi', 'kfoi'),\n",
       " ('apenas', 'aapenas'),\n",
       " ('empresa', 'pmpresa'),\n",
       " ('valor', 'valoqr'),\n",
       " ('será', 'sçerá'),\n",
       " ('entre', 'entró'),\n",
       " ('método', 'nétodo'),\n",
       " ('precisamos', 'prefcisamos'),\n",
       " ('ainda', 'sainda'),\n",
       " ('vai', 'uai'),\n",
       " ('conteúdo', 'cĩonteúdo'),\n",
       " ('seus', 'sâus'),\n",
       " ('eu', 'ìeu'),\n",
       " ('todos', 'todás'),\n",
       " ('tempo', 'utempo'),\n",
       " ('sempre', 'sempce'),\n",
       " ('qual', 'fual'),\n",
       " ('ela', 'elal'),\n",
       " ('só', 'skó'),\n",
       " ('utilizar', 'utilĩzar'),\n",
       " ('projeto', 'proójeto'),\n",
       " ('site', 'isite'),\n",
       " ('sem', 'secm'),\n",
       " ('pelo', 'pẽlo'),\n",
       " ('alura', 'aluéa'),\n",
       " ('dia', 'dil'),\n",
       " ('tudo', 'tudy'),\n",
       " ('ela', 'qelay'),\n",
       " ('só', 'sód'),\n",
       " ('utilizar', 'dtilizacr'),\n",
       " ('projeto', 'bprojõto'),\n",
       " ('site', 'ysiteo'),\n",
       " ('sem', 'sõêm'),\n",
       " ('pelo', 'peàli'),\n",
       " ('alura', 'asuraó'),\n",
       " ('dia', 'deiìa'),\n",
       " ('tudo', 'tuĩdoì'),\n",
       " ('ela', 'eúaa'),\n",
       " ('só', 'ró'),\n",
       " ('utilizar', 'utilizẽaçr'),\n",
       " ('projeto', 'prêjetó'),\n",
       " ('site', 'sqiqte'),\n",
       " ('sem', 'sũexm'),\n",
       " ('pelo', 'pçlxo'),\n",
       " ('alura', 'uluraa'),\n",
       " ('dia', 'dĩaz'),\n",
       " ('tudo', 'kzudo'),\n",
       " ('corretor', 'correptor'),\n",
       " ('tática', 'trtica'),\n",
       " ('empoderamento', 'ewpoderamento'),\n",
       " ('linux', 'lifux'),\n",
       " ('cachorro', 'cachoçro'),\n",
       " ('gato', 'îgato'),\n",
       " ('cavalo', 'cakvalo'),\n",
       " ('relógio', 'relógiuo'),\n",
       " ('canela', 'canelac'),\n",
       " ('tênis', 'tênisy'),\n",
       " ('ansiosa', 'anciosa'),\n",
       " ('ansiosa', 'ancciosa'),\n",
       " ('ansiosa', 'ansioa'),\n",
       " ('empoderamento', 'empoderamento'),\n",
       " ('asterisco', 'asterístico'),\n",
       " ('gratuito', 'gratuíto'),\n",
       " ('entretido', 'entertido'),\n",
       " ('ritmo', 'ritimo'),\n",
       " ('idiota', 'indiota'),\n",
       " ('tomara', 'tomare'),\n",
       " ('seja', 'seje'),\n",
       " ('prevalecer', 'provalecer'),\n",
       " ('esteja', 'esteje'),\n",
       " ('mendigo', 'mindigo'),\n",
       " ('cérebro', 'célebro'),\n",
       " ('perturbar', 'pertubar')]"
      ]
     },
     "execution_count": 28,
     "metadata": {},
     "output_type": "execute_result"
    }
   ],
   "source": [
    "# Para medir a eficiência do corretor (taxa de acerto), iremos usar um novo arquivo de texto,\n",
    "# Cada linha deste arquivo contém uma palavra escrita errada ao lado da mesma palavra escrita da forma correta\n",
    "\n",
    "# Criando os dados de teste a partir do arquivo informado\n",
    "def cria_dados_teste(nome_arquivo):\n",
    "  lista_palavras_teste = []\n",
    "  f = open(nome_arquivo, \"r\")\n",
    "  for linha in f: \n",
    "    correta, errada = linha.split()\n",
    "    lista_palavras_teste.append((correta, errada))\n",
    "  f.close()\n",
    "  return lista_palavras_teste\n",
    "\n",
    "# armazenando o resultado em uma lista de tuplas\n",
    "lista_teste = cria_dados_teste(\"./data/dataset_test.txt\")\n",
    "lista_teste"
   ]
  },
  {
   "cell_type": "code",
   "execution_count": 29,
   "metadata": {
    "colab": {
     "base_uri": "https://localhost:8080/",
     "height": 52
    },
    "colab_type": "code",
    "id": "_Cj6C2vsIeGL",
    "outputId": "e416fbe2-27aa-40fb-feee-20c029415119"
   },
   "outputs": [
    {
     "name": "stdout",
     "output_type": "stream",
     "text": [
      "A taxa de acerto do corretor é: 2.15% de 186\n",
      "4.84% das palavras do teste não estão no vocabulário\n"
     ]
    }
   ],
   "source": [
    "# Função de avaliação do corretor\n",
    "# A função receberá o conjunto de dados de testes, e o vocabulário\n",
    "\n",
    "# armazenando as palavras do dataset sem as repetições - lista normalizada\n",
    "vocabulario = set(lista_normalizada)\n",
    "\n",
    "# definindo a avaliação do corretor\n",
    "def avaliador(testes, vocabulario):\n",
    "  numero_palavras = len(testes)\n",
    "  acertou = 0\n",
    "  desconhecida = 0\n",
    "  # iteração a partir de cada linha (palavra correta e incorreta) no arquivo\n",
    "  for correta, errada in testes:\n",
    "    # a palavra errada do arquivo, após passar pelo corretor, será armazenada\n",
    "    palavra_corrigida = corretor(errada)\n",
    "    # se a palavra for igual a palavra correta do arquivo adiciona-se 1 ao total de acertos\n",
    "    if palavra_corrigida == correta:\n",
    "      acertou += 1\n",
    "    # caso a palavra seja diferente, o contador de palava desconhecida será incrementado se\n",
    "    # a palavra em questão não for encontrada na lista de palavras do nosso dataset\n",
    "    else:\n",
    "      desconhecida += (correta not in vocabulario)\n",
    "\n",
    "  # Desta forma, temos a taxa de acerto do nosso corretor \n",
    "  # E também a taxa de palavras que não existem no nosso dataset de palavras\n",
    "  taxa_acerto = round(acertou*100 / numero_palavras, 2)\n",
    "  taxa_desconhecida = round(desconhecida*100 / numero_palavras, 2)\n",
    "\n",
    "  print(f\"A taxa de acerto do corretor é: {taxa_acerto}% de {numero_palavras}\")\n",
    "  print(f\"{taxa_desconhecida}% das palavras do teste não estão no vocabulário\")\n",
    "\n",
    "avaliador(lista_teste, vocabulario)"
   ]
  },
  {
   "cell_type": "markdown",
   "metadata": {
    "colab_type": "text",
    "id": "urKnrsoYpstH"
   },
   "source": [
    "## Segunda versão do corretor"
   ]
  },
  {
   "cell_type": "markdown",
   "metadata": {
    "colab_type": "text",
    "id": "Cy9EDmuP9ylT"
   },
   "source": [
    "### Tratando o erro: Palavra com um caractere a mais"
   ]
  },
  {
   "cell_type": "code",
   "execution_count": 30,
   "metadata": {
    "colab": {},
    "colab_type": "code",
    "id": "AREQuBs_L_PY"
   },
   "outputs": [],
   "source": [
    "palavra_exemplo = \"arremmesso\"\n",
    "\n",
    "# Implementando a segunda função de correção\n",
    "# Erro: Palavra digitada com um caractere a mais, como a palavra 'arremmesso' definida anteriormente\n",
    "# Solução: Retirar o caractere\n",
    "def deletando_caracteres(fatias):\n",
    "  novas_palavras = []\n",
    "  for E, D in fatias:\n",
    "    novas_palavras.append(E + D[1:]) \n",
    "  return novas_palavras"
   ]
  },
  {
   "cell_type": "markdown",
   "metadata": {
    "colab_type": "text",
    "id": "3_tjdXBN-Bi2"
   },
   "source": [
    "### Criando a segunda versão do corretor"
   ]
  },
  {
   "cell_type": "code",
   "execution_count": 40,
   "metadata": {
    "colab": {
     "base_uri": "https://localhost:8080/",
     "height": 54
    },
    "colab_type": "code",
    "id": "XX289R1zOm2S",
    "outputId": "c7550103-2d05-49d0-b62f-832b3ce7251d"
   },
   "outputs": [],
   "source": [
    "# Adicionando a função deletando_caracteres ao gerador de palavras\n",
    "def gerador_palavras(palavra):\n",
    "  fatias = []\n",
    "  for i in range(len(palavra)+1):\n",
    "    fatias.append((palavra[:i], palavra[i:]))\n",
    "  palavras_geradas = insere_letras(fatias)\n",
    "  palavras_geradas += deletando_caracteres(fatias)\n",
    "  return palavras_geradas\n",
    "\n",
    "# O gerador de palavras agora possui dois algoritmos: insere_letras e deletando_caracteres\n",
    "palavras_geradas = gerador_palavras(palavra_exemplo)\n",
    "# Retirar o comentário da linha abaixo, caso queira visualizar as palavras geradas\n",
    "# print(palavras_geradas)"
   ]
  },
  {
   "cell_type": "markdown",
   "metadata": {
    "colab_type": "text",
    "id": "A3CvPd-h-Hq1"
   },
   "source": [
    "### Avaliando a segunda versão do corretor"
   ]
  },
  {
   "cell_type": "code",
   "execution_count": 32,
   "metadata": {
    "colab": {
     "base_uri": "https://localhost:8080/",
     "height": 52
    },
    "colab_type": "code",
    "id": "xJ70CUMlPGqU",
    "outputId": "4bb9f62f-07d4-4148-fce2-0770a6746d2b"
   },
   "outputs": [
    {
     "name": "stdout",
     "output_type": "stream",
     "text": [
      "A taxa de acerto do corretor é: 43.55% de 186\n",
      "4.84% das palavras do teste não estão no vocabulário\n"
     ]
    }
   ],
   "source": [
    "avaliador(lista_teste, vocabulario)"
   ]
  },
  {
   "cell_type": "markdown",
   "metadata": {
    "colab_type": "text",
    "id": "CoxqlBV_p20w"
   },
   "source": [
    "## Versão final do corretor"
   ]
  },
  {
   "cell_type": "markdown",
   "metadata": {
    "colab_type": "text",
    "id": "pCRaaAhT-Q75"
   },
   "source": [
    "### Tratando mais dois erros: Palavra com letra trocada e Palavra com letras invertidas"
   ]
  },
  {
   "cell_type": "code",
   "execution_count": 33,
   "metadata": {
    "colab": {},
    "colab_type": "code",
    "id": "CLVsg8G6TkdI"
   },
   "outputs": [],
   "source": [
    "# Implementando mais funções de correção\n",
    "\n",
    "# Reescrevendo:\n",
    "# Erro: Palavra digitada com uma letra faltando, como a palavra 'aremesso'\n",
    "# Solução: Adicionar a letra \n",
    "def insere_letras(fatias):\n",
    "  novas_palavras = []\n",
    "  letras = 'abcdefghijklmnopqrstuvwxyzáâàãéêèẽíîìĩóôòõúûùũç'\n",
    "  for E, D in fatias:\n",
    "    for letra in letras:\n",
    "      novas_palavras.append(E + letra + D) \n",
    "  return novas_palavras\n",
    "\n",
    "# Reescrevendo:\n",
    "# Erro: Palavra digitada com um caractere a mais, como a palavra 'arremmesso'\n",
    "# Solução: # Solução: Retirar o caractere\n",
    "def deletando_caracteres(fatias):\n",
    "  novas_palavras = []\n",
    "  for E, D in fatias:\n",
    "    novas_palavras.append(E + D[1:]) \n",
    "  return novas_palavras\n",
    "\n",
    "# Nova função:\n",
    "# Erro: Palavra digitada com uma letra trocada, como a palavra 'arrenesso'\n",
    "# Solução: Trocar a letra \n",
    "def troca_letra(fatias):\n",
    "  novas_palavras = []\n",
    "  letras = 'abcdefghijklmnopqrstuvwxyzáâàãéêèẽíîìĩóôòõúûùũç'\n",
    "  for E, D in fatias:\n",
    "    for letra in letras:\n",
    "      novas_palavras.append(E + letra + D[1:]) \n",
    "  return novas_palavras\n",
    "\n",
    "# Nova função:\n",
    "# Erro: Palavra digitada com ordem das letras invertida, como a palavra 'arremesos' \n",
    "# Solução: Inverter as letras \n",
    "def inverte_letra(fatias):\n",
    "  novas_palavras = []\n",
    "  for E, D in fatias:\n",
    "    if len(D) > 1:\n",
    "      novas_palavras.append(E + D[1:] + D[0] + D[2:]) \n",
    "  return novas_palavras\n"
   ]
  },
  {
   "cell_type": "markdown",
   "metadata": {
    "colab_type": "text",
    "id": "7qLhb3V1-6rd"
   },
   "source": [
    "### Criando a versão final do corretor"
   ]
  },
  {
   "cell_type": "code",
   "execution_count": 41,
   "metadata": {
    "colab": {
     "base_uri": "https://localhost:8080/",
     "height": 54
    },
    "colab_type": "code",
    "id": "JeRnCvfO-9_E",
    "outputId": "2f9cfad3-d295-4064-a8c9-045379bce7fc"
   },
   "outputs": [],
   "source": [
    "# Inserindo ao gerador de palavras os algoritmos implementados\n",
    "def gerador_palavras(palavra):\n",
    "  fatias = []\n",
    "  for i in range(len(palavra)+1):\n",
    "    fatias.append((palavra[:i], palavra[i:]))\n",
    "  palavras_geradas = insere_letras(fatias)\n",
    "  palavras_geradas += deletando_caracteres(fatias)\n",
    "  palavras_geradas += troca_letra(fatias)\n",
    "  palavras_geradas += inverte_letra(fatias)\n",
    "  return palavras_geradas\n",
    "\n",
    "# Exemplo de palavras geradas, após a inserção dos algortimos\n",
    "palavra_exemplo = \"arrenesso\"\n",
    "palavras_geradas = gerador_palavras(palavra_exemplo)\n",
    "\n",
    "# Retirar o comentário da linha abaixo, caso queira visualizar as palavras geradas\n",
    "#print(palavras_geradas)"
   ]
  },
  {
   "cell_type": "code",
   "execution_count": 57,
   "metadata": {
    "colab": {},
    "colab_type": "code",
    "id": "fK6cT-OT4Hs5"
   },
   "outputs": [],
   "source": [
    "# Definindo palavras com diferentes tipos de erros\n",
    "\n",
    "palavra_exemplo1 = \"corida\"     # erro: letra faltando\n",
    "palavra_exemplo2 = \"disciplinna\"   # erro: caractere a mais\n",
    "palavra_exemplo3 = \"astrononia\"    # erro: letra trocada\n",
    "palavra_exemplo4 = \"professro\"    # erro: letras invertidas"
   ]
  },
  {
   "cell_type": "code",
   "execution_count": 58,
   "metadata": {
    "colab": {
     "base_uri": "https://localhost:8080/",
     "height": 86
    },
    "colab_type": "code",
    "id": "DynXgN1S4J0l",
    "outputId": "462437dc-dc2e-4cf4-f1d9-99f6741df3fa"
   },
   "outputs": [
    {
     "name": "stdout",
     "output_type": "stream",
     "text": [
      "A palavra correta é: corrida\n",
      "A palavra correta é: disciplina\n",
      "A palavra correta é: astronomia\n",
      "A palavra correta é: professor\n"
     ]
    }
   ],
   "source": [
    "# Verificando a ação do corretor em palavras com diferentes erros\n",
    "\n",
    "print(f\"A palavra correta é: {corretor(palavra_exemplo1)}\")\n",
    "print(f\"A palavra correta é: {corretor(palavra_exemplo2)}\")\n",
    "print(f\"A palavra correta é: {corretor(palavra_exemplo3)}\")\n",
    "print(f\"A palavra correta é: {corretor(palavra_exemplo4)}\")"
   ]
  },
  {
   "cell_type": "markdown",
   "metadata": {
    "colab_type": "text",
    "id": "uSoL2MzE5aJC"
   },
   "source": [
    "### Avaliando a versão final do corretor"
   ]
  },
  {
   "cell_type": "code",
   "execution_count": 59,
   "metadata": {
    "colab": {
     "base_uri": "https://localhost:8080/",
     "height": 52
    },
    "colab_type": "code",
    "id": "5gB1yGfrXq5I",
    "outputId": "1607cf3e-9bbb-49b9-f2d6-9a92f2a76d95"
   },
   "outputs": [
    {
     "name": "stdout",
     "output_type": "stream",
     "text": [
      "A taxa de acerto do corretor é: 76.34% de 186\n",
      "4.84% das palavras do teste não estão no vocabulário\n"
     ]
    }
   ],
   "source": [
    "avaliador(lista_teste, vocabulario)"
   ]
  },
  {
   "cell_type": "code",
   "execution_count": null,
   "metadata": {},
   "outputs": [],
   "source": []
  }
 ],
 "metadata": {
  "colab": {
   "collapsed_sections": [
    "GsdZs1yQUyOf",
    "Kd9XNISkU4YS",
    "dzs1JQJeVjI9",
    "ySTOUpzlWhys",
    "jO4vUqxuoaGm",
    "urKnrsoYpstH",
    "CoxqlBV_p20w"
   ],
   "name": "Corretor.ipynb",
   "provenance": []
  },
  "kernelspec": {
   "display_name": "Python 3",
   "language": "python",
   "name": "python3"
  },
  "language_info": {
   "codemirror_mode": {
    "name": "ipython",
    "version": 3
   },
   "file_extension": ".py",
   "mimetype": "text/x-python",
   "name": "python",
   "nbconvert_exporter": "python",
   "pygments_lexer": "ipython3",
   "version": "3.7.6"
  }
 },
 "nbformat": 4,
 "nbformat_minor": 1
}
